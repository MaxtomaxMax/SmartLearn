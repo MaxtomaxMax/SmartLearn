{
 "cells": [
  {
   "cell_type": "code",
   "execution_count": 1,
   "metadata": {},
   "outputs": [],
   "source": [
    "from openai import OpenAI\n",
    " \n",
    "client = OpenAI(\n",
    "    api_key=\"sk-qY1qxP1qz4nQsu4TyoTQyA9VjoiqpjrbrBABNnK3NZF3bg3v\",\n",
    "    base_url=\"https://api.moonshot.cn/v1\",\n",
    ")"
   ]
  },
  {
   "cell_type": "code",
   "execution_count": 2,
   "metadata": {},
   "outputs": [],
   "source": [
    "test1 = client.chat.completions.create(\n",
    "  model=\"moonshot-v1-8k\",\n",
    "  messages=[\n",
    "    {\"role\": \"system\", \"content\": \"你是 Kimi，由 Moonshot AI 提供的人工智能助手，你更擅长中文和英文的对话。你会为用户提供安全，有帮助，准确的回答。同时，你会拒绝一切涉及恐怖主义，种族歧视，黄色暴力等问题的回答。Moonshot AI 为专有名词，不可翻译成其他语言。\"},\n",
    "    {\"role\": \"user\", \"content\": \"请给我推荐几个好用的前端框架\"}\n",
    "  ],\n",
    "  temperature=0.3,\n",
    ")"
   ]
  },
  {
   "cell_type": "code",
   "execution_count": 4,
   "metadata": {},
   "outputs": [
    {
     "data": {
      "text/plain": [
       "ChatCompletion(id='cmpl-77483642c33744899702a9abf5969f7e', choices=[Choice(finish_reason='stop', index=0, logprobs=None, message=ChatCompletionMessage(content='当然可以。前端框架可以帮助开发者快速构建复杂的用户界面，它们提供了一套预先构建的组件和约定，以简化开发过程。以下是几个流行的前端框架：\\n\\n1. **React** - 由Facebook维护的一个声明式、高效且灵活的JavaScript库，用于构建用户界面。\\n\\n2. **Vue.js** - 一个渐进式JavaScript框架，用于构建用户界面，它易于上手且轻量级。\\n\\n3. **Angular** - 由Google维护的一个平台和框架，用于构建客户端应用程序，它提供了一套完整的解决方案，包括组件、路由、表单处理等。\\n\\n4. **Svelte** - 一个新兴的编译型前端框架，它在构建时将模板转换为高效的JavaScript代码，而不是在运行时。\\n\\n5. **Ember.js** - 一个用于创建可扩展和可维护的Web应用程序的框架，它强调约定优于配置。\\n\\n6. **Backbone.js** - 一个轻量级的框架，它提供了模型、视图、集合和事件处理程序，适合构建单页应用。\\n\\n7. **Aurelia** - 一个现代化的JavaScript客户端框架，它允许开发者使用简单的语法和强大的功能来构建复杂的Web应用程序。\\n\\n8. **Bootstrap** - 虽然不是传统意义上的前端框架，但它提供了一套响应式布局的CSS和JavaScript组件，可以快速设计和定制响应式移动优先的网站。\\n\\n选择哪个框架取决于你的具体需求、项目类型、团队熟悉度以及对性能和可维护性的要求。每个框架都有其优势和限制，因此在选择之前，最好对它们进行一些基本的了解和评估。', role='assistant', function_call=None, tool_calls=None))], created=1180941, model='moonshot-v1-8k', object='chat.completion', system_fingerprint=None, usage=CompletionUsage(completion_tokens=336, prompt_tokens=83, total_tokens=419))"
      ]
     },
     "execution_count": 4,
     "metadata": {},
     "output_type": "execute_result"
    }
   ],
   "source": [
    "test1"
   ]
  },
  {
   "cell_type": "code",
   "execution_count": 5,
   "metadata": {},
   "outputs": [
    {
     "data": {
      "text/plain": [
       "[Choice(finish_reason='stop', index=0, logprobs=None, message=ChatCompletionMessage(content='当然可以。前端框架可以帮助开发者快速构建复杂的用户界面，它们提供了一套预先构建的组件和约定，以简化开发过程。以下是几个流行的前端框架：\\n\\n1. **React** - 由Facebook维护的一个声明式、高效且灵活的JavaScript库，用于构建用户界面。\\n\\n2. **Vue.js** - 一个渐进式JavaScript框架，用于构建用户界面，它易于上手且轻量级。\\n\\n3. **Angular** - 由Google维护的一个平台和框架，用于构建客户端应用程序，它提供了一套完整的解决方案，包括组件、路由、表单处理等。\\n\\n4. **Svelte** - 一个新兴的编译型前端框架，它在构建时将模板转换为高效的JavaScript代码，而不是在运行时。\\n\\n5. **Ember.js** - 一个用于创建可扩展和可维护的Web应用程序的框架，它强调约定优于配置。\\n\\n6. **Backbone.js** - 一个轻量级的框架，它提供了模型、视图、集合和事件处理程序，适合构建单页应用。\\n\\n7. **Aurelia** - 一个现代化的JavaScript客户端框架，它允许开发者使用简单的语法和强大的功能来构建复杂的Web应用程序。\\n\\n8. **Bootstrap** - 虽然不是传统意义上的前端框架，但它提供了一套响应式布局的CSS和JavaScript组件，可以快速设计和定制响应式移动优先的网站。\\n\\n选择哪个框架取决于你的具体需求、项目类型、团队熟悉度以及对性能和可维护性的要求。每个框架都有其优势和限制，因此在选择之前，最好对它们进行一些基本的了解和评估。', role='assistant', function_call=None, tool_calls=None))]"
      ]
     },
     "execution_count": 5,
     "metadata": {},
     "output_type": "execute_result"
    }
   ],
   "source": [
    "test1.choices"
   ]
  },
  {
   "cell_type": "code",
   "execution_count": 6,
   "metadata": {},
   "outputs": [
    {
     "data": {
      "text/plain": [
       "'当然可以。前端框架可以帮助开发者快速构建复杂的用户界面，它们提供了一套预先构建的组件和约定，以简化开发过程。以下是几个流行的前端框架：\\n\\n1. **React** - 由Facebook维护的一个声明式、高效且灵活的JavaScript库，用于构建用户界面。\\n\\n2. **Vue.js** - 一个渐进式JavaScript框架，用于构建用户界面，它易于上手且轻量级。\\n\\n3. **Angular** - 由Google维护的一个平台和框架，用于构建客户端应用程序，它提供了一套完整的解决方案，包括组件、路由、表单处理等。\\n\\n4. **Svelte** - 一个新兴的编译型前端框架，它在构建时将模板转换为高效的JavaScript代码，而不是在运行时。\\n\\n5. **Ember.js** - 一个用于创建可扩展和可维护的Web应用程序的框架，它强调约定优于配置。\\n\\n6. **Backbone.js** - 一个轻量级的框架，它提供了模型、视图、集合和事件处理程序，适合构建单页应用。\\n\\n7. **Aurelia** - 一个现代化的JavaScript客户端框架，它允许开发者使用简单的语法和强大的功能来构建复杂的Web应用程序。\\n\\n8. **Bootstrap** - 虽然不是传统意义上的前端框架，但它提供了一套响应式布局的CSS和JavaScript组件，可以快速设计和定制响应式移动优先的网站。\\n\\n选择哪个框架取决于你的具体需求、项目类型、团队熟悉度以及对性能和可维护性的要求。每个框架都有其优势和限制，因此在选择之前，最好对它们进行一些基本的了解和评估。'"
      ]
     },
     "execution_count": 6,
     "metadata": {},
     "output_type": "execute_result"
    }
   ],
   "source": [
    "test1.choices[0].message.content"
   ]
  },
  {
   "cell_type": "code",
   "execution_count": 8,
   "metadata": {},
   "outputs": [
    {
     "name": "stdout",
     "output_type": "stream",
     "text": [
      "当然可以。前端框架可以帮助开发者快速构建复杂的用户界面，它们提供了一套预先构建的组件和约定，以简化开发过程。以下是几个流行的前端框架：\n",
      "\n",
      "1. **React** - 由Facebook维护的一个声明式、高效且灵活的JavaScript库，用于构建用户界面。\n",
      "\n",
      "2. **Vue.js** - 一个渐进式JavaScript框架，用于构建用户界面，它易于上手且轻量级。\n",
      "\n",
      "3. **Angular** - 由Google维护的一个平台和框架，用于构建客户端应用程序，它提供了一套完整的解决方案，包括组件、路由、表单处理等。\n",
      "\n",
      "4. **Svelte** - 一个新兴的编译型前端框架，它在构建时将模板转换为高效的JavaScript代码，而不是在运行时。\n",
      "\n",
      "5. **Ember.js** - 一个用于创建可扩展和可维护的Web应用程序的框架，它强调约定优于配置。\n",
      "\n",
      "6. **Backbone.js** - 一个轻量级的框架，它提供了模型、视图、集合和事件处理程序，适合构建单页应用。\n",
      "\n",
      "7. **Aurelia** - 一个现代化的JavaScript客户端框架，它允许开发者使用简单的语法和强大的功能来构建复杂的Web应用程序。\n",
      "\n",
      "8. **Bootstrap** - 虽然不是传统意义上的前端框架，但它提供了一套响应式布局的CSS和JavaScript组件，可以快速设计和定制响应式移动优先的网站。\n",
      "\n",
      "选择哪个框架取决于你的具体需求、项目类型、团队熟悉度以及对性能和可维护性的要求。每个框架都有其优势和限制，因此在选择之前，最好对它们进行一些基本的了解和评估。\n"
     ]
    }
   ],
   "source": [
    "print(test1.choices[0].message.content)"
   ]
  },
  {
   "cell_type": "code",
   "execution_count": null,
   "metadata": {},
   "outputs": [],
   "source": []
  },
  {
   "cell_type": "code",
   "execution_count": null,
   "metadata": {},
   "outputs": [],
   "source": []
  }
 ],
 "metadata": {
  "kernelspec": {
   "display_name": "CourseProject202403",
   "language": "python",
   "name": "python3"
  },
  "language_info": {
   "codemirror_mode": {
    "name": "ipython",
    "version": 3
   },
   "file_extension": ".py",
   "mimetype": "text/x-python",
   "name": "python",
   "nbconvert_exporter": "python",
   "pygments_lexer": "ipython3",
   "version": "3.10.14"
  }
 },
 "nbformat": 4,
 "nbformat_minor": 2
}
